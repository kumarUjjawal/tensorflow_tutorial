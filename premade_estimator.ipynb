{
 "cells": [
  {
   "cell_type": "markdown",
   "metadata": {},
   "source": [
    "## Premades Estimators"
   ]
  },
  {
   "cell_type": "code",
   "execution_count": 26,
   "metadata": {},
   "outputs": [],
   "source": [
    "import tensorflow as tf\n",
    "import pandas as pd "
   ]
  },
  {
   "cell_type": "markdown",
   "metadata": {},
   "source": [
    "### Get the Dataset"
   ]
  },
  {
   "cell_type": "code",
   "execution_count": 27,
   "metadata": {},
   "outputs": [],
   "source": [
    "CSV_COLUMN_NAMES = ['SepalLength', 'SepalWidth', 'PetalLength', 'PetalWidth', 'Species']\n",
    "SPECIES = ['Setosa', 'Versicolor', 'Virginica']"
   ]
  },
  {
   "cell_type": "code",
   "execution_count": 28,
   "metadata": {},
   "outputs": [],
   "source": [
    "train_path = tf.keras.utils.get_file('iris_training.csv', \"https://storage.googleapis.com/download.tensorflow.org/data/iris_training.csv\")\n",
    "test_path = tf.keras.utils.get_file('iris_test.csv', \"https://storage.googleapis.com/download.tensorflow.org/data/iris_test.csv\")\n",
    "\n",
    "train = pd.read_csv(train_path, names=CSV_COLUMN_NAMES, header=0)\n",
    "test = pd.read_csv(test_path, names=CSV_COLUMN_NAMES, header=0)"
   ]
  },
  {
   "cell_type": "code",
   "execution_count": 29,
   "metadata": {},
   "outputs": [
    {
     "data": {
      "text/plain": [
       "(120, 5)"
      ]
     },
     "execution_count": 29,
     "metadata": {},
     "output_type": "execute_result"
    }
   ],
   "source": [
    "train.shape"
   ]
  },
  {
   "cell_type": "code",
   "execution_count": 30,
   "metadata": {},
   "outputs": [
    {
     "data": {
      "text/plain": [
       "(30, 5)"
      ]
     },
     "execution_count": 30,
     "metadata": {},
     "output_type": "execute_result"
    }
   ],
   "source": [
    "test.shape"
   ]
  },
  {
   "cell_type": "code",
   "execution_count": 31,
   "metadata": {},
   "outputs": [
    {
     "data": {
      "text/html": [
       "<div>\n",
       "<style scoped>\n",
       "    .dataframe tbody tr th:only-of-type {\n",
       "        vertical-align: middle;\n",
       "    }\n",
       "\n",
       "    .dataframe tbody tr th {\n",
       "        vertical-align: top;\n",
       "    }\n",
       "\n",
       "    .dataframe thead th {\n",
       "        text-align: right;\n",
       "    }\n",
       "</style>\n",
       "<table border=\"1\" class=\"dataframe\">\n",
       "  <thead>\n",
       "    <tr style=\"text-align: right;\">\n",
       "      <th></th>\n",
       "      <th>SepalLength</th>\n",
       "      <th>SepalWidth</th>\n",
       "      <th>PetalLength</th>\n",
       "      <th>PetalWidth</th>\n",
       "      <th>Species</th>\n",
       "    </tr>\n",
       "  </thead>\n",
       "  <tbody>\n",
       "    <tr>\n",
       "      <td>count</td>\n",
       "      <td>120.000000</td>\n",
       "      <td>120.000000</td>\n",
       "      <td>120.000000</td>\n",
       "      <td>120.000000</td>\n",
       "      <td>120.000000</td>\n",
       "    </tr>\n",
       "    <tr>\n",
       "      <td>mean</td>\n",
       "      <td>5.845000</td>\n",
       "      <td>3.065000</td>\n",
       "      <td>3.739167</td>\n",
       "      <td>1.196667</td>\n",
       "      <td>1.000000</td>\n",
       "    </tr>\n",
       "    <tr>\n",
       "      <td>std</td>\n",
       "      <td>0.868578</td>\n",
       "      <td>0.427156</td>\n",
       "      <td>1.822100</td>\n",
       "      <td>0.782039</td>\n",
       "      <td>0.840168</td>\n",
       "    </tr>\n",
       "    <tr>\n",
       "      <td>min</td>\n",
       "      <td>4.400000</td>\n",
       "      <td>2.000000</td>\n",
       "      <td>1.000000</td>\n",
       "      <td>0.100000</td>\n",
       "      <td>0.000000</td>\n",
       "    </tr>\n",
       "    <tr>\n",
       "      <td>25%</td>\n",
       "      <td>5.075000</td>\n",
       "      <td>2.800000</td>\n",
       "      <td>1.500000</td>\n",
       "      <td>0.300000</td>\n",
       "      <td>0.000000</td>\n",
       "    </tr>\n",
       "    <tr>\n",
       "      <td>50%</td>\n",
       "      <td>5.800000</td>\n",
       "      <td>3.000000</td>\n",
       "      <td>4.400000</td>\n",
       "      <td>1.300000</td>\n",
       "      <td>1.000000</td>\n",
       "    </tr>\n",
       "    <tr>\n",
       "      <td>75%</td>\n",
       "      <td>6.425000</td>\n",
       "      <td>3.300000</td>\n",
       "      <td>5.100000</td>\n",
       "      <td>1.800000</td>\n",
       "      <td>2.000000</td>\n",
       "    </tr>\n",
       "    <tr>\n",
       "      <td>max</td>\n",
       "      <td>7.900000</td>\n",
       "      <td>4.400000</td>\n",
       "      <td>6.900000</td>\n",
       "      <td>2.500000</td>\n",
       "      <td>2.000000</td>\n",
       "    </tr>\n",
       "  </tbody>\n",
       "</table>\n",
       "</div>"
      ],
      "text/plain": [
       "       SepalLength  SepalWidth  PetalLength  PetalWidth     Species\n",
       "count   120.000000  120.000000   120.000000  120.000000  120.000000\n",
       "mean      5.845000    3.065000     3.739167    1.196667    1.000000\n",
       "std       0.868578    0.427156     1.822100    0.782039    0.840168\n",
       "min       4.400000    2.000000     1.000000    0.100000    0.000000\n",
       "25%       5.075000    2.800000     1.500000    0.300000    0.000000\n",
       "50%       5.800000    3.000000     4.400000    1.300000    1.000000\n",
       "75%       6.425000    3.300000     5.100000    1.800000    2.000000\n",
       "max       7.900000    4.400000     6.900000    2.500000    2.000000"
      ]
     },
     "execution_count": 31,
     "metadata": {},
     "output_type": "execute_result"
    }
   ],
   "source": [
    "train.describe()"
   ]
  },
  {
   "cell_type": "code",
   "execution_count": 32,
   "metadata": {},
   "outputs": [
    {
     "data": {
      "text/html": [
       "<div>\n",
       "<style scoped>\n",
       "    .dataframe tbody tr th:only-of-type {\n",
       "        vertical-align: middle;\n",
       "    }\n",
       "\n",
       "    .dataframe tbody tr th {\n",
       "        vertical-align: top;\n",
       "    }\n",
       "\n",
       "    .dataframe thead th {\n",
       "        text-align: right;\n",
       "    }\n",
       "</style>\n",
       "<table border=\"1\" class=\"dataframe\">\n",
       "  <thead>\n",
       "    <tr style=\"text-align: right;\">\n",
       "      <th></th>\n",
       "      <th>SepalLength</th>\n",
       "      <th>SepalWidth</th>\n",
       "      <th>PetalLength</th>\n",
       "      <th>PetalWidth</th>\n",
       "      <th>Species</th>\n",
       "    </tr>\n",
       "  </thead>\n",
       "  <tbody>\n",
       "    <tr>\n",
       "      <td>0</td>\n",
       "      <td>6.4</td>\n",
       "      <td>2.8</td>\n",
       "      <td>5.6</td>\n",
       "      <td>2.2</td>\n",
       "      <td>2</td>\n",
       "    </tr>\n",
       "    <tr>\n",
       "      <td>1</td>\n",
       "      <td>5.0</td>\n",
       "      <td>2.3</td>\n",
       "      <td>3.3</td>\n",
       "      <td>1.0</td>\n",
       "      <td>1</td>\n",
       "    </tr>\n",
       "    <tr>\n",
       "      <td>2</td>\n",
       "      <td>4.9</td>\n",
       "      <td>2.5</td>\n",
       "      <td>4.5</td>\n",
       "      <td>1.7</td>\n",
       "      <td>2</td>\n",
       "    </tr>\n",
       "    <tr>\n",
       "      <td>3</td>\n",
       "      <td>4.9</td>\n",
       "      <td>3.1</td>\n",
       "      <td>1.5</td>\n",
       "      <td>0.1</td>\n",
       "      <td>0</td>\n",
       "    </tr>\n",
       "    <tr>\n",
       "      <td>4</td>\n",
       "      <td>5.7</td>\n",
       "      <td>3.8</td>\n",
       "      <td>1.7</td>\n",
       "      <td>0.3</td>\n",
       "      <td>0</td>\n",
       "    </tr>\n",
       "  </tbody>\n",
       "</table>\n",
       "</div>"
      ],
      "text/plain": [
       "   SepalLength  SepalWidth  PetalLength  PetalWidth  Species\n",
       "0          6.4         2.8          5.6         2.2        2\n",
       "1          5.0         2.3          3.3         1.0        1\n",
       "2          4.9         2.5          4.5         1.7        2\n",
       "3          4.9         3.1          1.5         0.1        0\n",
       "4          5.7         3.8          1.7         0.3        0"
      ]
     },
     "execution_count": 32,
     "metadata": {},
     "output_type": "execute_result"
    }
   ],
   "source": [
    "train.head()"
   ]
  },
  {
   "cell_type": "code",
   "execution_count": 33,
   "metadata": {},
   "outputs": [
    {
     "data": {
      "text/html": [
       "<div>\n",
       "<style scoped>\n",
       "    .dataframe tbody tr th:only-of-type {\n",
       "        vertical-align: middle;\n",
       "    }\n",
       "\n",
       "    .dataframe tbody tr th {\n",
       "        vertical-align: top;\n",
       "    }\n",
       "\n",
       "    .dataframe thead th {\n",
       "        text-align: right;\n",
       "    }\n",
       "</style>\n",
       "<table border=\"1\" class=\"dataframe\">\n",
       "  <thead>\n",
       "    <tr style=\"text-align: right;\">\n",
       "      <th></th>\n",
       "      <th>SepalLength</th>\n",
       "      <th>SepalWidth</th>\n",
       "      <th>PetalLength</th>\n",
       "      <th>PetalWidth</th>\n",
       "    </tr>\n",
       "  </thead>\n",
       "  <tbody>\n",
       "    <tr>\n",
       "      <td>0</td>\n",
       "      <td>6.4</td>\n",
       "      <td>2.8</td>\n",
       "      <td>5.6</td>\n",
       "      <td>2.2</td>\n",
       "    </tr>\n",
       "    <tr>\n",
       "      <td>1</td>\n",
       "      <td>5.0</td>\n",
       "      <td>2.3</td>\n",
       "      <td>3.3</td>\n",
       "      <td>1.0</td>\n",
       "    </tr>\n",
       "    <tr>\n",
       "      <td>2</td>\n",
       "      <td>4.9</td>\n",
       "      <td>2.5</td>\n",
       "      <td>4.5</td>\n",
       "      <td>1.7</td>\n",
       "    </tr>\n",
       "    <tr>\n",
       "      <td>3</td>\n",
       "      <td>4.9</td>\n",
       "      <td>3.1</td>\n",
       "      <td>1.5</td>\n",
       "      <td>0.1</td>\n",
       "    </tr>\n",
       "    <tr>\n",
       "      <td>4</td>\n",
       "      <td>5.7</td>\n",
       "      <td>3.8</td>\n",
       "      <td>1.7</td>\n",
       "      <td>0.3</td>\n",
       "    </tr>\n",
       "  </tbody>\n",
       "</table>\n",
       "</div>"
      ],
      "text/plain": [
       "   SepalLength  SepalWidth  PetalLength  PetalWidth\n",
       "0          6.4         2.8          5.6         2.2\n",
       "1          5.0         2.3          3.3         1.0\n",
       "2          4.9         2.5          4.5         1.7\n",
       "3          4.9         3.1          1.5         0.1\n",
       "4          5.7         3.8          1.7         0.3"
      ]
     },
     "execution_count": 33,
     "metadata": {},
     "output_type": "execute_result"
    }
   ],
   "source": [
    "train_y = train.pop('Species')\n",
    "test_y = test.pop('Species')\n",
    "\n",
    "train.head()"
   ]
  },
  {
   "cell_type": "markdown",
   "metadata": {},
   "source": [
    "### Create Input Function"
   ]
  },
  {
   "cell_type": "code",
   "execution_count": 34,
   "metadata": {},
   "outputs": [],
   "source": [
    "def input_fn(features, labels, training=True, batch_size=512):\n",
    "    # convert input into dataset\n",
    "    dataset = tf.data.Dataset.from_tensor_slices((dict(features), labels))\n",
    "    # shuffle and repeat if are in training mode\n",
    "    if training:\n",
    "        dataset = dataset.shuffle(1000).repeat()\n",
    "        \n",
    "    return dataset.batch(batch_size)"
   ]
  },
  {
   "cell_type": "markdown",
   "metadata": {},
   "source": [
    "### Define Feature Column"
   ]
  },
  {
   "cell_type": "code",
   "execution_count": 35,
   "metadata": {},
   "outputs": [],
   "source": [
    "feature_column = []\n",
    "for key in train.keys():\n",
    "    feature_column.append(tf.feature_column.numeric_column(key=key))"
   ]
  },
  {
   "cell_type": "markdown",
   "metadata": {},
   "source": [
    "### Instantiate an Estimator"
   ]
  },
  {
   "cell_type": "code",
   "execution_count": 36,
   "metadata": {},
   "outputs": [
    {
     "name": "stdout",
     "output_type": "stream",
     "text": [
      "INFO:tensorflow:Using default config.\n",
      "WARNING:tensorflow:Using temporary folder as model directory: /var/folders/mx/sdp5b8td5k9f532cdd258hq00000gn/T/tmpgqln7wvk\n",
      "INFO:tensorflow:Using config: {'_model_dir': '/var/folders/mx/sdp5b8td5k9f532cdd258hq00000gn/T/tmpgqln7wvk', '_tf_random_seed': None, '_save_summary_steps': 100, '_save_checkpoints_steps': None, '_save_checkpoints_secs': 600, '_session_config': allow_soft_placement: true\n",
      "graph_options {\n",
      "  rewrite_options {\n",
      "    meta_optimizer_iterations: ONE\n",
      "  }\n",
      "}\n",
      ", '_keep_checkpoint_max': 5, '_keep_checkpoint_every_n_hours': 10000, '_log_step_count_steps': 100, '_train_distribute': None, '_device_fn': None, '_protocol': None, '_eval_distribute': None, '_experimental_distribute': None, '_experimental_max_worker_delay_secs': None, '_session_creation_timeout_secs': 7200, '_service': None, '_cluster_spec': ClusterSpec({}), '_task_type': 'worker', '_task_id': 0, '_global_id_in_cluster': 0, '_master': '', '_evaluation_master': '', '_is_chief': True, '_num_ps_replicas': 0, '_num_worker_replicas': 1}\n"
     ]
    }
   ],
   "source": [
    "classifier = tf.estimator.DNNClassifier(feature_columns=feature_column,\n",
    "                                        hidden_units=[30,10],\n",
    "                                        n_classes=3)"
   ]
  },
  {
   "cell_type": "markdown",
   "metadata": {},
   "source": [
    "### Train Evaluate and Predict"
   ]
  },
  {
   "cell_type": "code",
   "execution_count": 37,
   "metadata": {
    "scrolled": true
   },
   "outputs": [
    {
     "name": "stdout",
     "output_type": "stream",
     "text": [
      "INFO:tensorflow:Calling model_fn.\n",
      "WARNING:tensorflow:Layer dnn is casting an input tensor from dtype float64 to the layer's dtype of float32, which is new behavior in TensorFlow 2.  The layer has dtype float32 because it's dtype defaults to floatx.\n",
      "\n",
      "If you intended to run this layer in float32, you can safely ignore this warning. If in doubt, this warning is likely only an issue if you are porting a TensorFlow 1.X model to TensorFlow 2.\n",
      "\n",
      "To change all layers to have dtype float64 by default, call `tf.keras.backend.set_floatx('float64')`. To change just this layer, pass dtype='float64' to the layer constructor. If you are the author of this layer, you can disable autocasting by passing autocast=False to the base Layer constructor.\n",
      "\n",
      "INFO:tensorflow:Done calling model_fn.\n",
      "INFO:tensorflow:Create CheckpointSaverHook.\n",
      "INFO:tensorflow:Graph was finalized.\n",
      "INFO:tensorflow:Running local_init_op.\n",
      "INFO:tensorflow:Done running local_init_op.\n",
      "INFO:tensorflow:Saving checkpoints for 0 into /var/folders/mx/sdp5b8td5k9f532cdd258hq00000gn/T/tmpgqln7wvk/model.ckpt.\n",
      "INFO:tensorflow:loss = 2.0748081, step = 0\n",
      "INFO:tensorflow:global_step/sec: 187.279\n",
      "INFO:tensorflow:loss = 1.2467871, step = 100 (0.536 sec)\n",
      "INFO:tensorflow:global_step/sec: 185.772\n",
      "INFO:tensorflow:loss = 1.0450231, step = 200 (0.538 sec)\n",
      "INFO:tensorflow:global_step/sec: 195.726\n",
      "INFO:tensorflow:loss = 0.9590241, step = 300 (0.510 sec)\n",
      "INFO:tensorflow:global_step/sec: 226.071\n",
      "INFO:tensorflow:loss = 0.9050523, step = 400 (0.442 sec)\n",
      "INFO:tensorflow:global_step/sec: 201.077\n",
      "INFO:tensorflow:loss = 0.8663913, step = 500 (0.500 sec)\n",
      "INFO:tensorflow:global_step/sec: 235.593\n",
      "INFO:tensorflow:loss = 0.83505917, step = 600 (0.422 sec)\n",
      "INFO:tensorflow:global_step/sec: 226.224\n",
      "INFO:tensorflow:loss = 0.8125403, step = 700 (0.442 sec)\n",
      "INFO:tensorflow:global_step/sec: 231.825\n",
      "INFO:tensorflow:loss = 0.7901585, step = 800 (0.431 sec)\n",
      "INFO:tensorflow:global_step/sec: 235.453\n",
      "INFO:tensorflow:loss = 0.77328765, step = 900 (0.425 sec)\n",
      "INFO:tensorflow:global_step/sec: 241.216\n",
      "INFO:tensorflow:loss = 0.7492472, step = 1000 (0.414 sec)\n",
      "INFO:tensorflow:global_step/sec: 238.497\n",
      "INFO:tensorflow:loss = 0.7365129, step = 1100 (0.419 sec)\n",
      "INFO:tensorflow:global_step/sec: 235.936\n",
      "INFO:tensorflow:loss = 0.7205684, step = 1200 (0.424 sec)\n",
      "INFO:tensorflow:global_step/sec: 235.146\n",
      "INFO:tensorflow:loss = 0.7114449, step = 1300 (0.425 sec)\n",
      "INFO:tensorflow:global_step/sec: 236.258\n",
      "INFO:tensorflow:loss = 0.70181733, step = 1400 (0.423 sec)\n",
      "INFO:tensorflow:global_step/sec: 247.459\n",
      "INFO:tensorflow:loss = 0.6875421, step = 1500 (0.404 sec)\n",
      "INFO:tensorflow:global_step/sec: 235.617\n",
      "INFO:tensorflow:loss = 0.6807741, step = 1600 (0.424 sec)\n",
      "INFO:tensorflow:global_step/sec: 232.498\n",
      "INFO:tensorflow:loss = 0.6663735, step = 1700 (0.430 sec)\n",
      "INFO:tensorflow:global_step/sec: 232.918\n",
      "INFO:tensorflow:loss = 0.65468544, step = 1800 (0.430 sec)\n",
      "INFO:tensorflow:global_step/sec: 232.555\n",
      "INFO:tensorflow:loss = 0.64926594, step = 1900 (0.430 sec)\n",
      "INFO:tensorflow:global_step/sec: 235.25\n",
      "INFO:tensorflow:loss = 0.6391518, step = 2000 (0.425 sec)\n",
      "INFO:tensorflow:global_step/sec: 227.767\n",
      "INFO:tensorflow:loss = 0.6353152, step = 2100 (0.439 sec)\n",
      "INFO:tensorflow:global_step/sec: 227.956\n",
      "INFO:tensorflow:loss = 0.6287664, step = 2200 (0.439 sec)\n",
      "INFO:tensorflow:global_step/sec: 188.913\n",
      "INFO:tensorflow:loss = 0.61750144, step = 2300 (0.529 sec)\n",
      "INFO:tensorflow:global_step/sec: 203.433\n",
      "INFO:tensorflow:loss = 0.61541367, step = 2400 (0.491 sec)\n",
      "INFO:tensorflow:global_step/sec: 210.233\n",
      "INFO:tensorflow:loss = 0.6027492, step = 2500 (0.476 sec)\n",
      "INFO:tensorflow:global_step/sec: 221.747\n",
      "INFO:tensorflow:loss = 0.60147274, step = 2600 (0.451 sec)\n",
      "INFO:tensorflow:global_step/sec: 200.826\n",
      "INFO:tensorflow:loss = 0.59656143, step = 2700 (0.499 sec)\n",
      "INFO:tensorflow:global_step/sec: 220.354\n",
      "INFO:tensorflow:loss = 0.5945977, step = 2800 (0.453 sec)\n",
      "INFO:tensorflow:global_step/sec: 215.053\n",
      "INFO:tensorflow:loss = 0.58091676, step = 2900 (0.465 sec)\n",
      "INFO:tensorflow:global_step/sec: 217.808\n",
      "INFO:tensorflow:loss = 0.57214916, step = 3000 (0.459 sec)\n",
      "INFO:tensorflow:global_step/sec: 214.678\n",
      "INFO:tensorflow:loss = 0.5773485, step = 3100 (0.466 sec)\n",
      "INFO:tensorflow:global_step/sec: 215.059\n",
      "INFO:tensorflow:loss = 0.5732248, step = 3200 (0.465 sec)\n",
      "INFO:tensorflow:global_step/sec: 229.015\n",
      "INFO:tensorflow:loss = 0.56404907, step = 3300 (0.437 sec)\n",
      "INFO:tensorflow:global_step/sec: 219.551\n",
      "INFO:tensorflow:loss = 0.5578723, step = 3400 (0.455 sec)\n",
      "INFO:tensorflow:global_step/sec: 235.38\n",
      "INFO:tensorflow:loss = 0.55013025, step = 3500 (0.425 sec)\n",
      "INFO:tensorflow:global_step/sec: 232.708\n",
      "INFO:tensorflow:loss = 0.5467069, step = 3600 (0.430 sec)\n",
      "INFO:tensorflow:global_step/sec: 238.424\n",
      "INFO:tensorflow:loss = 0.54775226, step = 3700 (0.419 sec)\n",
      "INFO:tensorflow:global_step/sec: 233.286\n",
      "INFO:tensorflow:loss = 0.54115963, step = 3800 (0.429 sec)\n",
      "INFO:tensorflow:global_step/sec: 234.491\n",
      "INFO:tensorflow:loss = 0.5374222, step = 3900 (0.427 sec)\n",
      "INFO:tensorflow:global_step/sec: 232.565\n",
      "INFO:tensorflow:loss = 0.53725386, step = 4000 (0.429 sec)\n",
      "INFO:tensorflow:global_step/sec: 232.443\n",
      "INFO:tensorflow:loss = 0.5333815, step = 4100 (0.431 sec)\n",
      "INFO:tensorflow:global_step/sec: 241.75\n",
      "INFO:tensorflow:loss = 0.52455795, step = 4200 (0.413 sec)\n",
      "INFO:tensorflow:global_step/sec: 232.99\n",
      "INFO:tensorflow:loss = 0.522167, step = 4300 (0.430 sec)\n",
      "INFO:tensorflow:global_step/sec: 234.609\n",
      "INFO:tensorflow:loss = 0.51951665, step = 4400 (0.426 sec)\n",
      "INFO:tensorflow:global_step/sec: 233.417\n",
      "INFO:tensorflow:loss = 0.5119406, step = 4500 (0.428 sec)\n",
      "INFO:tensorflow:global_step/sec: 236.899\n",
      "INFO:tensorflow:loss = 0.5124494, step = 4600 (0.422 sec)\n",
      "INFO:tensorflow:global_step/sec: 240.614\n",
      "INFO:tensorflow:loss = 0.5148248, step = 4700 (0.416 sec)\n",
      "INFO:tensorflow:global_step/sec: 231.725\n",
      "INFO:tensorflow:loss = 0.50701904, step = 4800 (0.432 sec)\n",
      "INFO:tensorflow:global_step/sec: 232.38\n",
      "INFO:tensorflow:loss = 0.5020266, step = 4900 (0.430 sec)\n",
      "INFO:tensorflow:Saving checkpoints for 5000 into /var/folders/mx/sdp5b8td5k9f532cdd258hq00000gn/T/tmpgqln7wvk/model.ckpt.\n",
      "INFO:tensorflow:Loss for final step: 0.5036126.\n"
     ]
    },
    {
     "data": {
      "text/plain": [
       "<tensorflow_estimator.python.estimator.canned.dnn.DNNClassifierV2 at 0x1522b8bd0>"
      ]
     },
     "execution_count": 37,
     "metadata": {},
     "output_type": "execute_result"
    }
   ],
   "source": [
    "# train the model\n",
    "classifier.train(input_fn= lambda: input_fn(train, train_y, training=True), steps=5000)"
   ]
  },
  {
   "cell_type": "code",
   "execution_count": 38,
   "metadata": {},
   "outputs": [
    {
     "name": "stdout",
     "output_type": "stream",
     "text": [
      "INFO:tensorflow:Calling model_fn.\n",
      "WARNING:tensorflow:Layer dnn is casting an input tensor from dtype float64 to the layer's dtype of float32, which is new behavior in TensorFlow 2.  The layer has dtype float32 because it's dtype defaults to floatx.\n",
      "\n",
      "If you intended to run this layer in float32, you can safely ignore this warning. If in doubt, this warning is likely only an issue if you are porting a TensorFlow 1.X model to TensorFlow 2.\n",
      "\n",
      "To change all layers to have dtype float64 by default, call `tf.keras.backend.set_floatx('float64')`. To change just this layer, pass dtype='float64' to the layer constructor. If you are the author of this layer, you can disable autocasting by passing autocast=False to the base Layer constructor.\n",
      "\n",
      "INFO:tensorflow:Done calling model_fn.\n",
      "INFO:tensorflow:Starting evaluation at 2020-04-24T11:09:15Z\n",
      "INFO:tensorflow:Graph was finalized.\n",
      "INFO:tensorflow:Restoring parameters from /var/folders/mx/sdp5b8td5k9f532cdd258hq00000gn/T/tmpgqln7wvk/model.ckpt-5000\n",
      "INFO:tensorflow:Running local_init_op.\n",
      "INFO:tensorflow:Done running local_init_op.\n",
      "INFO:tensorflow:Inference Time : 0.42537s\n",
      "INFO:tensorflow:Finished evaluation at 2020-04-24-11:09:15\n",
      "INFO:tensorflow:Saving dict for global step 5000: accuracy = 0.56666666, average_loss = 0.593979, global_step = 5000, loss = 0.593979\n",
      "INFO:tensorflow:Saving 'checkpoint_path' summary for global step 5000: /var/folders/mx/sdp5b8td5k9f532cdd258hq00000gn/T/tmpgqln7wvk/model.ckpt-5000\n",
      "\n",
      " Test Accuracy: 0.567\n",
      "\n"
     ]
    }
   ],
   "source": [
    "# evaluate \n",
    "eval_result = classifier.evaluate(input_fn= lambda: input_fn(test, test_y, training=False))\n",
    "\n",
    "print(\"\\n Test Accuracy: {accuracy:0.3f}\\n\".format(**eval_result))"
   ]
  },
  {
   "cell_type": "code",
   "execution_count": 39,
   "metadata": {},
   "outputs": [],
   "source": [
    "# prediction\n",
    "expected = ['Setosa', 'Versicolor', 'Virginica']\n",
    "predict_x = {\n",
    "    'SepalLength': [5.1, 5.9, 6.9],\n",
    "    'SepalWidth': [3.3, 3.0, 3.1],\n",
    "    'PetalLength': [1.7, 4.2, 5.4],\n",
    "    'PetalWidth': [0.5, 1.5, 2.1],\n",
    "}\n",
    "\n",
    "def input_fn(features, batch_size=512):\n",
    "    return tf.data.Dataset.from_tensor_slices(dict(features)).batch(batch_size)\n",
    "    \n",
    "prediction = classifier.predict(input_fn= lambda: input_fn(predict_x))"
   ]
  },
  {
   "cell_type": "code",
   "execution_count": 40,
   "metadata": {},
   "outputs": [
    {
     "name": "stdout",
     "output_type": "stream",
     "text": [
      "INFO:tensorflow:Calling model_fn.\n",
      "INFO:tensorflow:Done calling model_fn.\n",
      "INFO:tensorflow:Graph was finalized.\n",
      "INFO:tensorflow:Restoring parameters from /var/folders/mx/sdp5b8td5k9f532cdd258hq00000gn/T/tmpgqln7wvk/model.ckpt-5000\n",
      "INFO:tensorflow:Running local_init_op.\n",
      "INFO:tensorflow:Done running local_init_op.\n",
      "Prediction is \"Setosa\" (76.9%), expected \"Setosa\"\n",
      "Prediction is \"Virginica\" (50.3%), expected \"Versicolor\"\n",
      "Prediction is \"Virginica\" (59.7%), expected \"Virginica\"\n"
     ]
    }
   ],
   "source": [
    "for pred_dict, expec in zip(prediction, expected):\n",
    "    class_id = pred_dict['class_ids'][0]\n",
    "    probability = pred_dict['probabilities'][class_id]\n",
    "\n",
    "    print('Prediction is \"{}\" ({:.1f}%), expected \"{}\"'.format(\n",
    "        SPECIES[class_id], 100 * probability, expec))"
   ]
  },
  {
   "cell_type": "markdown",
   "metadata": {},
   "source": [
    "## End"
   ]
  }
 ],
 "metadata": {
  "kernelspec": {
   "display_name": "Python 3",
   "language": "python",
   "name": "python3"
  },
  "language_info": {
   "codemirror_mode": {
    "name": "ipython",
    "version": 3
   },
   "file_extension": ".py",
   "mimetype": "text/x-python",
   "name": "python",
   "nbconvert_exporter": "python",
   "pygments_lexer": "ipython3",
   "version": "3.7.4"
  },
  "toc": {
   "base_numbering": 1,
   "nav_menu": {},
   "number_sections": true,
   "sideBar": true,
   "skip_h1_title": false,
   "title_cell": "Table of Contents",
   "title_sidebar": "Contents",
   "toc_cell": false,
   "toc_position": {},
   "toc_section_display": true,
   "toc_window_display": false
  }
 },
 "nbformat": 4,
 "nbformat_minor": 2
}
