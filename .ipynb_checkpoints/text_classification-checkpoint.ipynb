{
 "cells": [
  {
   "cell_type": "markdown",
   "metadata": {},
   "source": [
    "## Text Classification"
   ]
  },
  {
   "cell_type": "code",
   "execution_count": 1,
   "metadata": {},
   "outputs": [],
   "source": [
    "!pip install -q tensorflow-hub\n",
    "!pip install -q tfds-nightly"
   ]
  },
  {
   "cell_type": "code",
   "execution_count": 2,
   "metadata": {},
   "outputs": [],
   "source": [
    "import tensorflow as tf\n",
    "import tensorflow_hub as hub\n",
    "import tensorflow_datasets as tfds\n",
    "import numpy as np"
   ]
  },
  {
   "cell_type": "markdown",
   "metadata": {},
   "source": [
    "### Download and Explore Dataset"
   ]
  },
  {
   "cell_type": "code",
   "execution_count": 3,
   "metadata": {},
   "outputs": [
    {
     "name": "stdout",
     "output_type": "stream",
     "text": [
      "\u001b[1mDownloading and preparing dataset imdb_reviews/plain_text/1.0.0 (download: 80.23 MiB, generated: Unknown size, total: 80.23 MiB) to /Users/kumarujjawal/tensorflow_datasets/imdb_reviews/plain_text/1.0.0...\u001b[0m\n"
     ]
    },
    {
     "data": {
      "application/vnd.jupyter.widget-view+json": {
       "model_id": "1cc8e665b7a4420e98e1f46b7a8d8035",
       "version_major": 2,
       "version_minor": 0
      },
      "text/plain": [
       "HBox(children=(IntProgress(value=1, bar_style='info', description='Dl Completed...', max=1, style=ProgressStyl…"
      ]
     },
     "metadata": {},
     "output_type": "display_data"
    },
    {
     "data": {
      "application/vnd.jupyter.widget-view+json": {
       "model_id": "17a3dbf0ee24437580d1d51a64ed9f46",
       "version_major": 2,
       "version_minor": 0
      },
      "text/plain": [
       "HBox(children=(IntProgress(value=1, bar_style='info', description='Dl Size...', max=1, style=ProgressStyle(des…"
      ]
     },
     "metadata": {},
     "output_type": "display_data"
    },
    {
     "name": "stdout",
     "output_type": "stream",
     "text": [
      "\n",
      "\n",
      "\n",
      "\n"
     ]
    },
    {
     "data": {
      "application/vnd.jupyter.widget-view+json": {
       "model_id": "",
       "version_major": 2,
       "version_minor": 0
      },
      "text/plain": [
       "HBox(children=(IntProgress(value=1, bar_style='info', max=1), HTML(value='')))"
      ]
     },
     "metadata": {},
     "output_type": "display_data"
    },
    {
     "name": "stdout",
     "output_type": "stream",
     "text": [
      "\r",
      "Shuffling and writing examples to /Users/kumarujjawal/tensorflow_datasets/imdb_reviews/plain_text/1.0.0.incompleteIZUS9Y/imdb_reviews-train.tfrecord\n"
     ]
    },
    {
     "data": {
      "application/vnd.jupyter.widget-view+json": {
       "model_id": "0f29fa4259fb4a63b0771e1405719048",
       "version_major": 2,
       "version_minor": 0
      },
      "text/plain": [
       "HBox(children=(IntProgress(value=0, max=25000), HTML(value='')))"
      ]
     },
     "metadata": {},
     "output_type": "display_data"
    },
    {
     "name": "stdout",
     "output_type": "stream",
     "text": [
      "\r"
     ]
    },
    {
     "data": {
      "application/vnd.jupyter.widget-view+json": {
       "model_id": "",
       "version_major": 2,
       "version_minor": 0
      },
      "text/plain": [
       "HBox(children=(IntProgress(value=1, bar_style='info', max=1), HTML(value='')))"
      ]
     },
     "metadata": {},
     "output_type": "display_data"
    },
    {
     "name": "stdout",
     "output_type": "stream",
     "text": [
      "\r",
      "Shuffling and writing examples to /Users/kumarujjawal/tensorflow_datasets/imdb_reviews/plain_text/1.0.0.incompleteIZUS9Y/imdb_reviews-test.tfrecord\n"
     ]
    },
    {
     "data": {
      "application/vnd.jupyter.widget-view+json": {
       "model_id": "1d660c2d36934b3fa1093ea4d80ddaf8",
       "version_major": 2,
       "version_minor": 0
      },
      "text/plain": [
       "HBox(children=(IntProgress(value=0, max=25000), HTML(value='')))"
      ]
     },
     "metadata": {},
     "output_type": "display_data"
    },
    {
     "name": "stdout",
     "output_type": "stream",
     "text": [
      "\r"
     ]
    },
    {
     "data": {
      "application/vnd.jupyter.widget-view+json": {
       "model_id": "",
       "version_major": 2,
       "version_minor": 0
      },
      "text/plain": [
       "HBox(children=(IntProgress(value=1, bar_style='info', max=1), HTML(value='')))"
      ]
     },
     "metadata": {},
     "output_type": "display_data"
    },
    {
     "name": "stdout",
     "output_type": "stream",
     "text": [
      "\r",
      "Shuffling and writing examples to /Users/kumarujjawal/tensorflow_datasets/imdb_reviews/plain_text/1.0.0.incompleteIZUS9Y/imdb_reviews-unsupervised.tfrecord\n"
     ]
    },
    {
     "data": {
      "application/vnd.jupyter.widget-view+json": {
       "model_id": "8ac01b2037a54167a63893299178608d",
       "version_major": 2,
       "version_minor": 0
      },
      "text/plain": [
       "HBox(children=(IntProgress(value=0, max=50000), HTML(value='')))"
      ]
     },
     "metadata": {},
     "output_type": "display_data"
    },
    {
     "name": "stdout",
     "output_type": "stream",
     "text": [
      "\u001b[1mDataset imdb_reviews downloaded and prepared to /Users/kumarujjawal/tensorflow_datasets/imdb_reviews/plain_text/1.0.0. Subsequent calls will reuse this data.\u001b[0m\n",
      "\r"
     ]
    }
   ],
   "source": [
    "train_data, validation_data, test_data = tfds.load(name='imdb_reviews',\n",
    "                                                   split=('train[:60%]', 'train[60%:]', 'test'),\n",
    "                                                   as_supervised=True)"
   ]
  },
  {
   "cell_type": "markdown",
   "metadata": {},
   "source": [
    "### Build the Model"
   ]
  },
  {
   "cell_type": "code",
   "execution_count": 5,
   "metadata": {},
   "outputs": [],
   "source": [
    "embedding = \"https://tfhub.dev/google/tf2-preview/gnews-swivel-20dim/1\"\n",
    "hub_layer = hub.KerasLayer(embedding, input_shape=[],\n",
    "                           dtype=tf.string, trainable=True)"
   ]
  },
  {
   "cell_type": "code",
   "execution_count": 8,
   "metadata": {},
   "outputs": [
    {
     "name": "stdout",
     "output_type": "stream",
     "text": [
      "Model: \"sequential_2\"\n",
      "_________________________________________________________________\n",
      "Layer (type)                 Output Shape              Param #   \n",
      "=================================================================\n",
      "keras_layer (KerasLayer)     (None, 20)                400020    \n",
      "_________________________________________________________________\n",
      "dense_2 (Dense)              (None, 16)                336       \n",
      "_________________________________________________________________\n",
      "dense_3 (Dense)              (None, 1)                 17        \n",
      "=================================================================\n",
      "Total params: 400,373\n",
      "Trainable params: 400,373\n",
      "Non-trainable params: 0\n",
      "_________________________________________________________________\n"
     ]
    }
   ],
   "source": [
    "model = tf.keras.Sequential()\n",
    "model.add(hub_layer)\n",
    "model.add(tf.keras.layers.Dense(16, activation='relu'))\n",
    "model.add(tf.keras.layers.Dense(1))\n",
    "model.summary()"
   ]
  },
  {
   "cell_type": "code",
   "execution_count": 10,
   "metadata": {},
   "outputs": [],
   "source": [
    "model.compile(optimizer='adam',\n",
    "              loss=tf.keras.losses.BinaryCrossentropy(from_logits=True),\n",
    "              metrics=['accuracy'])"
   ]
  },
  {
   "cell_type": "code",
   "execution_count": 11,
   "metadata": {},
   "outputs": [
    {
     "name": "stdout",
     "output_type": "stream",
     "text": [
      "Epoch 1/20\n",
      "30/30 [==============================] - 5s 174ms/step - loss: 0.8099 - accuracy: 0.5408 - val_loss: 0.6788 - val_accuracy: 0.5889\n",
      "Epoch 2/20\n",
      "30/30 [==============================] - 4s 139ms/step - loss: 0.6517 - accuracy: 0.5837 - val_loss: 0.6308 - val_accuracy: 0.5980\n",
      "Epoch 3/20\n",
      "30/30 [==============================] - 4s 144ms/step - loss: 0.6191 - accuracy: 0.6206 - val_loss: 0.6070 - val_accuracy: 0.6307\n",
      "Epoch 4/20\n",
      "30/30 [==============================] - 4s 139ms/step - loss: 0.5940 - accuracy: 0.6527 - val_loss: 0.5863 - val_accuracy: 0.6603\n",
      "Epoch 5/20\n",
      "30/30 [==============================] - 4s 124ms/step - loss: 0.5715 - accuracy: 0.6790 - val_loss: 0.5666 - val_accuracy: 0.6764\n",
      "Epoch 6/20\n",
      "30/30 [==============================] - 4s 126ms/step - loss: 0.5485 - accuracy: 0.7021 - val_loss: 0.5470 - val_accuracy: 0.7009\n",
      "Epoch 7/20\n",
      "30/30 [==============================] - 4s 123ms/step - loss: 0.5259 - accuracy: 0.7219 - val_loss: 0.5268 - val_accuracy: 0.7228\n",
      "Epoch 8/20\n",
      "30/30 [==============================] - 4s 125ms/step - loss: 0.5011 - accuracy: 0.7449 - val_loss: 0.5057 - val_accuracy: 0.7344\n",
      "Epoch 9/20\n",
      "30/30 [==============================] - 4s 141ms/step - loss: 0.4749 - accuracy: 0.7644 - val_loss: 0.4832 - val_accuracy: 0.7536\n",
      "Epoch 10/20\n",
      "30/30 [==============================] - 4s 144ms/step - loss: 0.4465 - accuracy: 0.7869 - val_loss: 0.4598 - val_accuracy: 0.7764\n",
      "Epoch 11/20\n",
      "30/30 [==============================] - 4s 124ms/step - loss: 0.4162 - accuracy: 0.8077 - val_loss: 0.4365 - val_accuracy: 0.7854\n",
      "Epoch 12/20\n",
      "30/30 [==============================] - 4s 123ms/step - loss: 0.3874 - accuracy: 0.8226 - val_loss: 0.4138 - val_accuracy: 0.7999\n",
      "Epoch 13/20\n",
      "30/30 [==============================] - 4s 125ms/step - loss: 0.3605 - accuracy: 0.8423 - val_loss: 0.3935 - val_accuracy: 0.8143\n",
      "Epoch 14/20\n",
      "30/30 [==============================] - 5s 154ms/step - loss: 0.3326 - accuracy: 0.8575 - val_loss: 0.3759 - val_accuracy: 0.8293\n",
      "Epoch 15/20\n",
      "30/30 [==============================] - 4s 143ms/step - loss: 0.3092 - accuracy: 0.8723 - val_loss: 0.3601 - val_accuracy: 0.8330\n",
      "Epoch 16/20\n",
      "30/30 [==============================] - 4s 149ms/step - loss: 0.2871 - accuracy: 0.8845 - val_loss: 0.3469 - val_accuracy: 0.8421\n",
      "Epoch 17/20\n",
      "30/30 [==============================] - 4s 142ms/step - loss: 0.2645 - accuracy: 0.8941 - val_loss: 0.3366 - val_accuracy: 0.8464\n",
      "Epoch 18/20\n",
      "30/30 [==============================] - 4s 142ms/step - loss: 0.2463 - accuracy: 0.9014 - val_loss: 0.3281 - val_accuracy: 0.8558\n",
      "Epoch 19/20\n",
      "30/30 [==============================] - 4s 149ms/step - loss: 0.2307 - accuracy: 0.9091 - val_loss: 0.3212 - val_accuracy: 0.8582\n",
      "Epoch 20/20\n",
      "30/30 [==============================] - 4s 145ms/step - loss: 0.2166 - accuracy: 0.9159 - val_loss: 0.3156 - val_accuracy: 0.8617\n"
     ]
    }
   ],
   "source": [
    "history = model.fit(train_data.shuffle(10000).batch(512), \n",
    "                    epochs=20,\n",
    "                    validation_data=validation_data.batch(512),\n",
    "                    verbose=1)"
   ]
  },
  {
   "cell_type": "markdown",
   "metadata": {},
   "source": [
    "### Evaluate the Model"
   ]
  },
  {
   "cell_type": "code",
   "execution_count": 12,
   "metadata": {},
   "outputs": [
    {
     "name": "stdout",
     "output_type": "stream",
     "text": [
      "loss: 0.327\n",
      "accuracy: 0.849\n"
     ]
    }
   ],
   "source": [
    "results = model.evaluate(test_data.batch(512), verbose=2)\n",
    "\n",
    "for name,value in zip(model.metrics_names, results):\n",
    "    print(\"%s: %.3f\" %(name, value))"
   ]
  },
  {
   "cell_type": "markdown",
   "metadata": {},
   "source": [
    "## End"
   ]
  }
 ],
 "metadata": {
  "kernelspec": {
   "display_name": "Python 3",
   "language": "python",
   "name": "python3"
  },
  "language_info": {
   "codemirror_mode": {
    "name": "ipython",
    "version": 3
   },
   "file_extension": ".py",
   "mimetype": "text/x-python",
   "name": "python",
   "nbconvert_exporter": "python",
   "pygments_lexer": "ipython3",
   "version": "3.7.4"
  },
  "toc": {
   "base_numbering": 1,
   "nav_menu": {},
   "number_sections": true,
   "sideBar": true,
   "skip_h1_title": false,
   "title_cell": "Table of Contents",
   "title_sidebar": "Contents",
   "toc_cell": false,
   "toc_position": {},
   "toc_section_display": true,
   "toc_window_display": false
  }
 },
 "nbformat": 4,
 "nbformat_minor": 2
}
